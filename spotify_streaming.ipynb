{
 "cells": [
  {
   "cell_type": "code",
   "execution_count": 14,
   "id": "c0a077e2-be52-4c6e-8172-706f27390977",
   "metadata": {},
   "outputs": [],
   "source": [
    "import os"
   ]
  },
  {
   "cell_type": "code",
   "execution_count": null,
   "id": "034fa03f-f23b-406e-83fb-86a95b26bd03",
   "metadata": {},
   "outputs": [],
   "source": []
  },
  {
   "cell_type": "code",
   "execution_count": null,
   "id": "7b0f6b58-da86-4e43-b0c0-424aaa23ce56",
   "metadata": {},
   "outputs": [],
   "source": []
  },
  {
   "cell_type": "code",
   "execution_count": 15,
   "id": "76c0ddd0-f9cd-4f4e-9f49-c725850d6927",
   "metadata": {},
   "outputs": [],
   "source": [
    "import zipfile"
   ]
  },
  {
   "cell_type": "code",
   "execution_count": null,
   "id": "b370292c-14a3-450e-8168-5bf7aef3d648",
   "metadata": {},
   "outputs": [],
   "source": []
  },
  {
   "cell_type": "code",
   "execution_count": 16,
   "id": "56eca000-e746-4fc5-94f5-58c1447564d7",
   "metadata": {},
   "outputs": [],
   "source": [
    "import pandas as pd"
   ]
  },
  {
   "cell_type": "code",
   "execution_count": null,
   "id": "ace5a9df-95da-4d26-9b74-0869cb535e9d",
   "metadata": {},
   "outputs": [],
   "source": []
  },
  {
   "cell_type": "code",
   "execution_count": 20,
   "id": "f3a4fefd-9b3e-490b-bf6d-6660e2e8d75e",
   "metadata": {},
   "outputs": [],
   "source": [
    "json_file_path = os.path.join('/Users/ca/Documents/data_eng_projects/', 'StreamingHistory0.json')"
   ]
  },
  {
   "cell_type": "code",
   "execution_count": 21,
   "id": "5f0eb434-bd38-4585-8be6-c199523f37a2",
   "metadata": {},
   "outputs": [],
   "source": [
    "csv_file_path = os.path.join('/Users/ca/Documents/data_eng_projects/', 'StreamingHistory0.csv')"
   ]
  },
  {
   "cell_type": "code",
   "execution_count": 22,
   "id": "f05c4e6a-32bc-4836-a625-e5db8c83b1a4",
   "metadata": {},
   "outputs": [],
   "source": [
    "data = pd.read_json(json_file_path)"
   ]
  },
  {
   "cell_type": "code",
   "execution_count": 24,
   "id": "da37d3f6-4bd1-4ef2-9792-ef266fab0253",
   "metadata": {},
   "outputs": [],
   "source": [
    "data.to_csv(csv_file_path, index=False)"
   ]
  },
  {
   "cell_type": "code",
   "execution_count": 25,
   "id": "8b15c5b4-4249-48c1-acab-5266346f8fc0",
   "metadata": {},
   "outputs": [
    {
     "data": {
      "text/plain": [
       "(            endTime          artistName                  trackName  msPlayed\n",
       " 0  2020-02-17 23:06         Waxahatchee                       Fire      3370\n",
       " 1  2020-02-18 00:27         Waxahatchee                       Fire      2530\n",
       " 2  2020-02-18 00:35        Rosie Carney        Thousand - Acoustic      2650\n",
       " 3  2020-02-18 00:35  The Rolling Stones  Moonlight Mile - 2009 Mix    379350\n",
       " 4  2020-02-18 00:36         Bryan Adams             God Only Knows     61990,\n",
       " '/Users/ca/Documents/data_eng_projects/StreamingHistory0.csv')"
      ]
     },
     "execution_count": 25,
     "metadata": {},
     "output_type": "execute_result"
    }
   ],
   "source": [
    "data.head(), csv_file_path"
   ]
  },
  {
   "cell_type": "code",
   "execution_count": null,
   "id": "8281d4bb-112f-42ec-9bd3-15014e563702",
   "metadata": {},
   "outputs": [],
   "source": []
  },
  {
   "cell_type": "code",
   "execution_count": null,
   "id": "df0f61b2-347c-4a4b-9ff9-8ab56de55ae3",
   "metadata": {},
   "outputs": [],
   "source": []
  },
  {
   "cell_type": "code",
   "execution_count": null,
   "id": "b8cfee0a-51a0-4ea7-806f-68c289c73e62",
   "metadata": {},
   "outputs": [],
   "source": []
  }
 ],
 "metadata": {
  "kernelspec": {
   "display_name": "Python 3 (ipykernel)",
   "language": "python",
   "name": "python3"
  },
  "language_info": {
   "codemirror_mode": {
    "name": "ipython",
    "version": 3
   },
   "file_extension": ".py",
   "mimetype": "text/x-python",
   "name": "python",
   "nbconvert_exporter": "python",
   "pygments_lexer": "ipython3",
   "version": "3.13.1"
  }
 },
 "nbformat": 4,
 "nbformat_minor": 5
}
